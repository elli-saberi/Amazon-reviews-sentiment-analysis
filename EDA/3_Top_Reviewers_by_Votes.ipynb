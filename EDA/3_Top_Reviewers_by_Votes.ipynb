{
  "nbformat": 4,
  "nbformat_minor": 0,
  "metadata": {
    "colab": {
      "provenance": [],
      "authorship_tag": "ABX9TyNFVEFdoVPUL08eiLdALPCX",
      "include_colab_link": true
    },
    "kernelspec": {
      "name": "python3",
      "display_name": "Python 3"
    },
    "language_info": {
      "name": "python"
    }
  },
  "cells": [
    {
      "cell_type": "markdown",
      "metadata": {
        "id": "view-in-github",
        "colab_type": "text"
      },
      "source": [
        "<a href=\"https://colab.research.google.com/github/elli-saberi/Amazon-reviews-sentiment-analysis/blob/eda/3_Top_Reviewers_by_Votes.ipynb\" target=\"_parent\"><img src=\"https://colab.research.google.com/assets/colab-badge.svg\" alt=\"Open In Colab\"/></a>"
      ]
    },
    {
      "cell_type": "markdown",
      "source": [
        "Find the top 10 reviewers with the highest total sum of useful votes ('vote') across all their reviews.\n"
      ],
      "metadata": {
        "id": "XcluTjQf7OrQ"
      }
    },
    {
      "cell_type": "markdown",
      "source": [
        "set up cell\n",
        "\n",
        "\n",
        "\n"
      ],
      "metadata": {
        "id": "cglNQ7w87UEO"
      }
    },
    {
      "cell_type": "code",
      "source": [
        "import pandas as pd\n",
        "import matplotlib.pyplot as plt\n",
        "import seaborn as sns"
      ],
      "metadata": {
        "id": "5vjeqNfHBxTE"
      },
      "execution_count": 24,
      "outputs": []
    },
    {
      "cell_type": "markdown",
      "source": [
        "Data Loading and Exploration\n",
        "\n",
        "\n"
      ],
      "metadata": {
        "id": "yka2nZ2bpsQz"
      }
    },
    {
      "cell_type": "code",
      "source": [
        "from google.colab import drive\n",
        "drive.mount('/content/drive')\n"
      ],
      "metadata": {
        "colab": {
          "base_uri": "https://localhost:8080/"
        },
        "id": "BxtKyO6fpV86",
        "outputId": "7b45e6eb-3442-4b64-b702-827965c453db"
      },
      "execution_count": 25,
      "outputs": [
        {
          "output_type": "stream",
          "name": "stdout",
          "text": [
            "Drive already mounted at /content/drive; to attempt to forcibly remount, call drive.mount(\"/content/drive\", force_remount=True).\n"
          ]
        }
      ]
    },
    {
      "cell_type": "code",
      "source": [
        "train_path = '/content/drive/My Drive/sentiment analysis-ph2p1/train_data.csv'\n",
        "\n",
        "train_df = pd.read_csv(train_path)"
      ],
      "metadata": {
        "colab": {
          "base_uri": "https://localhost:8080/"
        },
        "id": "LW1ATXh_pj9b",
        "outputId": "6b925a80-4a1d-4418-c1c8-379cfe38e958"
      },
      "execution_count": 26,
      "outputs": [
        {
          "output_type": "stream",
          "name": "stderr",
          "text": [
            "/tmp/ipython-input-669623192.py:3: DtypeWarning: Columns (1) have mixed types. Specify dtype option on import or set low_memory=False.\n",
            "  train_df = pd.read_csv(train_path)\n"
          ]
        }
      ]
    },
    {
      "cell_type": "markdown",
      "source": [
        "Get a sneak peek of data"
      ],
      "metadata": {
        "id": "k9exLAj3rDxd"
      }
    },
    {
      "cell_type": "code",
      "source": [
        "train_df.head()"
      ],
      "metadata": {
        "colab": {
          "base_uri": "https://localhost:8080/",
          "height": 206
        },
        "id": "LM-6osgmqVwb",
        "outputId": "99a2bb4e-0013-4c3a-a87a-d7386927724e"
      },
      "execution_count": 27,
      "outputs": [
        {
          "output_type": "execute_result",
          "data": {
            "text/plain": [
              "   overall vote  verified  reviewTime      reviewerID        asin style  \\\n",
              "0        2  NaN     False  2016-11-11   A2OSUEZJIN7BI  0511189877   NaN   \n",
              "1        5  NaN      True  2016-06-06  A2NETQRG6JHIG7  0511189877   NaN   \n",
              "2        4  NaN      True  2016-03-10  A12JHGROAX49G7  0511189877   NaN   \n",
              "3        5  NaN      True  2016-01-14  A1KV65E2TMMG6F  0511189877   NaN   \n",
              "4        5  NaN      True  2016-10-20  A280POPEWI0NSA  0594459451   NaN   \n",
              "\n",
              "    reviewerName                                         reviewText  \\\n",
              "0          Chris  I have an older URC-WR7 remote and thought thi...   \n",
              "1   Qrysta White  First time I've EVER had a remote that needed ...   \n",
              "2        Linwood  Got them and only 2 of them worked. company ca...   \n",
              "3  Dane Williams  I got tired of the remote being on the wrong s...   \n",
              "4    Kristina H.  After purchasing cheap cords from another webs...   \n",
              "\n",
              "                               summary  unixReviewTime  \n",
              "0                         Cannot Learn      1478822400  \n",
              "1  zero programming needed!  Miracle!?      1465171200  \n",
              "2        Works Good and programs easy.      1457568000  \n",
              "3                   Same as TWC remote      1452729600  \n",
              "4                    Good Quality Cord      1476921600  "
            ],
            "text/html": [
              "\n",
              "  <div id=\"df-ad35a6f1-0e01-4ba1-80e6-66f6c3b2b82d\" class=\"colab-df-container\">\n",
              "    <div>\n",
              "<style scoped>\n",
              "    .dataframe tbody tr th:only-of-type {\n",
              "        vertical-align: middle;\n",
              "    }\n",
              "\n",
              "    .dataframe tbody tr th {\n",
              "        vertical-align: top;\n",
              "    }\n",
              "\n",
              "    .dataframe thead th {\n",
              "        text-align: right;\n",
              "    }\n",
              "</style>\n",
              "<table border=\"1\" class=\"dataframe\">\n",
              "  <thead>\n",
              "    <tr style=\"text-align: right;\">\n",
              "      <th></th>\n",
              "      <th>overall</th>\n",
              "      <th>vote</th>\n",
              "      <th>verified</th>\n",
              "      <th>reviewTime</th>\n",
              "      <th>reviewerID</th>\n",
              "      <th>asin</th>\n",
              "      <th>style</th>\n",
              "      <th>reviewerName</th>\n",
              "      <th>reviewText</th>\n",
              "      <th>summary</th>\n",
              "      <th>unixReviewTime</th>\n",
              "    </tr>\n",
              "  </thead>\n",
              "  <tbody>\n",
              "    <tr>\n",
              "      <th>0</th>\n",
              "      <td>2</td>\n",
              "      <td>NaN</td>\n",
              "      <td>False</td>\n",
              "      <td>2016-11-11</td>\n",
              "      <td>A2OSUEZJIN7BI</td>\n",
              "      <td>0511189877</td>\n",
              "      <td>NaN</td>\n",
              "      <td>Chris</td>\n",
              "      <td>I have an older URC-WR7 remote and thought thi...</td>\n",
              "      <td>Cannot Learn</td>\n",
              "      <td>1478822400</td>\n",
              "    </tr>\n",
              "    <tr>\n",
              "      <th>1</th>\n",
              "      <td>5</td>\n",
              "      <td>NaN</td>\n",
              "      <td>True</td>\n",
              "      <td>2016-06-06</td>\n",
              "      <td>A2NETQRG6JHIG7</td>\n",
              "      <td>0511189877</td>\n",
              "      <td>NaN</td>\n",
              "      <td>Qrysta White</td>\n",
              "      <td>First time I've EVER had a remote that needed ...</td>\n",
              "      <td>zero programming needed!  Miracle!?</td>\n",
              "      <td>1465171200</td>\n",
              "    </tr>\n",
              "    <tr>\n",
              "      <th>2</th>\n",
              "      <td>4</td>\n",
              "      <td>NaN</td>\n",
              "      <td>True</td>\n",
              "      <td>2016-03-10</td>\n",
              "      <td>A12JHGROAX49G7</td>\n",
              "      <td>0511189877</td>\n",
              "      <td>NaN</td>\n",
              "      <td>Linwood</td>\n",
              "      <td>Got them and only 2 of them worked. company ca...</td>\n",
              "      <td>Works Good and programs easy.</td>\n",
              "      <td>1457568000</td>\n",
              "    </tr>\n",
              "    <tr>\n",
              "      <th>3</th>\n",
              "      <td>5</td>\n",
              "      <td>NaN</td>\n",
              "      <td>True</td>\n",
              "      <td>2016-01-14</td>\n",
              "      <td>A1KV65E2TMMG6F</td>\n",
              "      <td>0511189877</td>\n",
              "      <td>NaN</td>\n",
              "      <td>Dane Williams</td>\n",
              "      <td>I got tired of the remote being on the wrong s...</td>\n",
              "      <td>Same as TWC remote</td>\n",
              "      <td>1452729600</td>\n",
              "    </tr>\n",
              "    <tr>\n",
              "      <th>4</th>\n",
              "      <td>5</td>\n",
              "      <td>NaN</td>\n",
              "      <td>True</td>\n",
              "      <td>2016-10-20</td>\n",
              "      <td>A280POPEWI0NSA</td>\n",
              "      <td>0594459451</td>\n",
              "      <td>NaN</td>\n",
              "      <td>Kristina H.</td>\n",
              "      <td>After purchasing cheap cords from another webs...</td>\n",
              "      <td>Good Quality Cord</td>\n",
              "      <td>1476921600</td>\n",
              "    </tr>\n",
              "  </tbody>\n",
              "</table>\n",
              "</div>\n",
              "    <div class=\"colab-df-buttons\">\n",
              "\n",
              "  <div class=\"colab-df-container\">\n",
              "    <button class=\"colab-df-convert\" onclick=\"convertToInteractive('df-ad35a6f1-0e01-4ba1-80e6-66f6c3b2b82d')\"\n",
              "            title=\"Convert this dataframe to an interactive table.\"\n",
              "            style=\"display:none;\">\n",
              "\n",
              "  <svg xmlns=\"http://www.w3.org/2000/svg\" height=\"24px\" viewBox=\"0 -960 960 960\">\n",
              "    <path d=\"M120-120v-720h720v720H120Zm60-500h600v-160H180v160Zm220 220h160v-160H400v160Zm0 220h160v-160H400v160ZM180-400h160v-160H180v160Zm440 0h160v-160H620v160ZM180-180h160v-160H180v160Zm440 0h160v-160H620v160Z\"/>\n",
              "  </svg>\n",
              "    </button>\n",
              "\n",
              "  <style>\n",
              "    .colab-df-container {\n",
              "      display:flex;\n",
              "      gap: 12px;\n",
              "    }\n",
              "\n",
              "    .colab-df-convert {\n",
              "      background-color: #E8F0FE;\n",
              "      border: none;\n",
              "      border-radius: 50%;\n",
              "      cursor: pointer;\n",
              "      display: none;\n",
              "      fill: #1967D2;\n",
              "      height: 32px;\n",
              "      padding: 0 0 0 0;\n",
              "      width: 32px;\n",
              "    }\n",
              "\n",
              "    .colab-df-convert:hover {\n",
              "      background-color: #E2EBFA;\n",
              "      box-shadow: 0px 1px 2px rgba(60, 64, 67, 0.3), 0px 1px 3px 1px rgba(60, 64, 67, 0.15);\n",
              "      fill: #174EA6;\n",
              "    }\n",
              "\n",
              "    .colab-df-buttons div {\n",
              "      margin-bottom: 4px;\n",
              "    }\n",
              "\n",
              "    [theme=dark] .colab-df-convert {\n",
              "      background-color: #3B4455;\n",
              "      fill: #D2E3FC;\n",
              "    }\n",
              "\n",
              "    [theme=dark] .colab-df-convert:hover {\n",
              "      background-color: #434B5C;\n",
              "      box-shadow: 0px 1px 3px 1px rgba(0, 0, 0, 0.15);\n",
              "      filter: drop-shadow(0px 1px 2px rgba(0, 0, 0, 0.3));\n",
              "      fill: #FFFFFF;\n",
              "    }\n",
              "  </style>\n",
              "\n",
              "    <script>\n",
              "      const buttonEl =\n",
              "        document.querySelector('#df-ad35a6f1-0e01-4ba1-80e6-66f6c3b2b82d button.colab-df-convert');\n",
              "      buttonEl.style.display =\n",
              "        google.colab.kernel.accessAllowed ? 'block' : 'none';\n",
              "\n",
              "      async function convertToInteractive(key) {\n",
              "        const element = document.querySelector('#df-ad35a6f1-0e01-4ba1-80e6-66f6c3b2b82d');\n",
              "        const dataTable =\n",
              "          await google.colab.kernel.invokeFunction('convertToInteractive',\n",
              "                                                    [key], {});\n",
              "        if (!dataTable) return;\n",
              "\n",
              "        const docLinkHtml = 'Like what you see? Visit the ' +\n",
              "          '<a target=\"_blank\" href=https://colab.research.google.com/notebooks/data_table.ipynb>data table notebook</a>'\n",
              "          + ' to learn more about interactive tables.';\n",
              "        element.innerHTML = '';\n",
              "        dataTable['output_type'] = 'display_data';\n",
              "        await google.colab.output.renderOutput(dataTable, element);\n",
              "        const docLink = document.createElement('div');\n",
              "        docLink.innerHTML = docLinkHtml;\n",
              "        element.appendChild(docLink);\n",
              "      }\n",
              "    </script>\n",
              "  </div>\n",
              "\n",
              "\n",
              "    <div id=\"df-dd85ebce-94b0-442f-99a3-8ddc757925a0\">\n",
              "      <button class=\"colab-df-quickchart\" onclick=\"quickchart('df-dd85ebce-94b0-442f-99a3-8ddc757925a0')\"\n",
              "                title=\"Suggest charts\"\n",
              "                style=\"display:none;\">\n",
              "\n",
              "<svg xmlns=\"http://www.w3.org/2000/svg\" height=\"24px\"viewBox=\"0 0 24 24\"\n",
              "     width=\"24px\">\n",
              "    <g>\n",
              "        <path d=\"M19 3H5c-1.1 0-2 .9-2 2v14c0 1.1.9 2 2 2h14c1.1 0 2-.9 2-2V5c0-1.1-.9-2-2-2zM9 17H7v-7h2v7zm4 0h-2V7h2v10zm4 0h-2v-4h2v4z\"/>\n",
              "    </g>\n",
              "</svg>\n",
              "      </button>\n",
              "\n",
              "<style>\n",
              "  .colab-df-quickchart {\n",
              "      --bg-color: #E8F0FE;\n",
              "      --fill-color: #1967D2;\n",
              "      --hover-bg-color: #E2EBFA;\n",
              "      --hover-fill-color: #174EA6;\n",
              "      --disabled-fill-color: #AAA;\n",
              "      --disabled-bg-color: #DDD;\n",
              "  }\n",
              "\n",
              "  [theme=dark] .colab-df-quickchart {\n",
              "      --bg-color: #3B4455;\n",
              "      --fill-color: #D2E3FC;\n",
              "      --hover-bg-color: #434B5C;\n",
              "      --hover-fill-color: #FFFFFF;\n",
              "      --disabled-bg-color: #3B4455;\n",
              "      --disabled-fill-color: #666;\n",
              "  }\n",
              "\n",
              "  .colab-df-quickchart {\n",
              "    background-color: var(--bg-color);\n",
              "    border: none;\n",
              "    border-radius: 50%;\n",
              "    cursor: pointer;\n",
              "    display: none;\n",
              "    fill: var(--fill-color);\n",
              "    height: 32px;\n",
              "    padding: 0;\n",
              "    width: 32px;\n",
              "  }\n",
              "\n",
              "  .colab-df-quickchart:hover {\n",
              "    background-color: var(--hover-bg-color);\n",
              "    box-shadow: 0 1px 2px rgba(60, 64, 67, 0.3), 0 1px 3px 1px rgba(60, 64, 67, 0.15);\n",
              "    fill: var(--button-hover-fill-color);\n",
              "  }\n",
              "\n",
              "  .colab-df-quickchart-complete:disabled,\n",
              "  .colab-df-quickchart-complete:disabled:hover {\n",
              "    background-color: var(--disabled-bg-color);\n",
              "    fill: var(--disabled-fill-color);\n",
              "    box-shadow: none;\n",
              "  }\n",
              "\n",
              "  .colab-df-spinner {\n",
              "    border: 2px solid var(--fill-color);\n",
              "    border-color: transparent;\n",
              "    border-bottom-color: var(--fill-color);\n",
              "    animation:\n",
              "      spin 1s steps(1) infinite;\n",
              "  }\n",
              "\n",
              "  @keyframes spin {\n",
              "    0% {\n",
              "      border-color: transparent;\n",
              "      border-bottom-color: var(--fill-color);\n",
              "      border-left-color: var(--fill-color);\n",
              "    }\n",
              "    20% {\n",
              "      border-color: transparent;\n",
              "      border-left-color: var(--fill-color);\n",
              "      border-top-color: var(--fill-color);\n",
              "    }\n",
              "    30% {\n",
              "      border-color: transparent;\n",
              "      border-left-color: var(--fill-color);\n",
              "      border-top-color: var(--fill-color);\n",
              "      border-right-color: var(--fill-color);\n",
              "    }\n",
              "    40% {\n",
              "      border-color: transparent;\n",
              "      border-right-color: var(--fill-color);\n",
              "      border-top-color: var(--fill-color);\n",
              "    }\n",
              "    60% {\n",
              "      border-color: transparent;\n",
              "      border-right-color: var(--fill-color);\n",
              "    }\n",
              "    80% {\n",
              "      border-color: transparent;\n",
              "      border-right-color: var(--fill-color);\n",
              "      border-bottom-color: var(--fill-color);\n",
              "    }\n",
              "    90% {\n",
              "      border-color: transparent;\n",
              "      border-bottom-color: var(--fill-color);\n",
              "    }\n",
              "  }\n",
              "</style>\n",
              "\n",
              "      <script>\n",
              "        async function quickchart(key) {\n",
              "          const quickchartButtonEl =\n",
              "            document.querySelector('#' + key + ' button');\n",
              "          quickchartButtonEl.disabled = true;  // To prevent multiple clicks.\n",
              "          quickchartButtonEl.classList.add('colab-df-spinner');\n",
              "          try {\n",
              "            const charts = await google.colab.kernel.invokeFunction(\n",
              "                'suggestCharts', [key], {});\n",
              "          } catch (error) {\n",
              "            console.error('Error during call to suggestCharts:', error);\n",
              "          }\n",
              "          quickchartButtonEl.classList.remove('colab-df-spinner');\n",
              "          quickchartButtonEl.classList.add('colab-df-quickchart-complete');\n",
              "        }\n",
              "        (() => {\n",
              "          let quickchartButtonEl =\n",
              "            document.querySelector('#df-dd85ebce-94b0-442f-99a3-8ddc757925a0 button');\n",
              "          quickchartButtonEl.style.display =\n",
              "            google.colab.kernel.accessAllowed ? 'block' : 'none';\n",
              "        })();\n",
              "      </script>\n",
              "    </div>\n",
              "\n",
              "    </div>\n",
              "  </div>\n"
            ],
            "application/vnd.google.colaboratory.intrinsic+json": {
              "type": "dataframe",
              "variable_name": "train_df"
            }
          },
          "metadata": {},
          "execution_count": 27
        }
      ]
    },
    {
      "cell_type": "markdown",
      "source": [
        "Let's have a look on the columns and their data types using detailed info function"
      ],
      "metadata": {
        "id": "V5sKJHqRrMTj"
      }
    },
    {
      "cell_type": "code",
      "source": [
        "train_df.info()"
      ],
      "metadata": {
        "colab": {
          "base_uri": "https://localhost:8080/"
        },
        "id": "eshl6gMmqdkH",
        "outputId": "e48dfa67-8453-49fc-fa74-be00cac61f26"
      },
      "execution_count": 28,
      "outputs": [
        {
          "output_type": "stream",
          "name": "stdout",
          "text": [
            "<class 'pandas.core.frame.DataFrame'>\n",
            "RangeIndex: 838944 entries, 0 to 838943\n",
            "Data columns (total 11 columns):\n",
            " #   Column          Non-Null Count   Dtype \n",
            "---  ------          --------------   ----- \n",
            " 0   overall         838944 non-null  int64 \n",
            " 1   vote            191468 non-null  object\n",
            " 2   verified        838944 non-null  bool  \n",
            " 3   reviewTime      838944 non-null  object\n",
            " 4   reviewerID      838944 non-null  object\n",
            " 5   asin            838944 non-null  object\n",
            " 6   style           490613 non-null  object\n",
            " 7   reviewerName    838717 non-null  object\n",
            " 8   reviewText      838944 non-null  object\n",
            " 9   summary         838868 non-null  object\n",
            " 10  unixReviewTime  838944 non-null  int64 \n",
            "dtypes: bool(1), int64(2), object(8)\n",
            "memory usage: 64.8+ MB\n"
          ]
        }
      ]
    },
    {
      "cell_type": "code",
      "source": [
        "train_df.isnull().sum()"
      ],
      "metadata": {
        "colab": {
          "base_uri": "https://localhost:8080/",
          "height": 429
        },
        "id": "v0rUbTSGrRxL",
        "outputId": "ec931d77-8587-41d9-af8a-450de08e0b11"
      },
      "execution_count": 29,
      "outputs": [
        {
          "output_type": "execute_result",
          "data": {
            "text/plain": [
              "overall                0\n",
              "vote              647476\n",
              "verified               0\n",
              "reviewTime             0\n",
              "reviewerID             0\n",
              "asin                   0\n",
              "style             348331\n",
              "reviewerName         227\n",
              "reviewText             0\n",
              "summary               76\n",
              "unixReviewTime         0\n",
              "dtype: int64"
            ],
            "text/html": [
              "<div>\n",
              "<style scoped>\n",
              "    .dataframe tbody tr th:only-of-type {\n",
              "        vertical-align: middle;\n",
              "    }\n",
              "\n",
              "    .dataframe tbody tr th {\n",
              "        vertical-align: top;\n",
              "    }\n",
              "\n",
              "    .dataframe thead th {\n",
              "        text-align: right;\n",
              "    }\n",
              "</style>\n",
              "<table border=\"1\" class=\"dataframe\">\n",
              "  <thead>\n",
              "    <tr style=\"text-align: right;\">\n",
              "      <th></th>\n",
              "      <th>0</th>\n",
              "    </tr>\n",
              "  </thead>\n",
              "  <tbody>\n",
              "    <tr>\n",
              "      <th>overall</th>\n",
              "      <td>0</td>\n",
              "    </tr>\n",
              "    <tr>\n",
              "      <th>vote</th>\n",
              "      <td>647476</td>\n",
              "    </tr>\n",
              "    <tr>\n",
              "      <th>verified</th>\n",
              "      <td>0</td>\n",
              "    </tr>\n",
              "    <tr>\n",
              "      <th>reviewTime</th>\n",
              "      <td>0</td>\n",
              "    </tr>\n",
              "    <tr>\n",
              "      <th>reviewerID</th>\n",
              "      <td>0</td>\n",
              "    </tr>\n",
              "    <tr>\n",
              "      <th>asin</th>\n",
              "      <td>0</td>\n",
              "    </tr>\n",
              "    <tr>\n",
              "      <th>style</th>\n",
              "      <td>348331</td>\n",
              "    </tr>\n",
              "    <tr>\n",
              "      <th>reviewerName</th>\n",
              "      <td>227</td>\n",
              "    </tr>\n",
              "    <tr>\n",
              "      <th>reviewText</th>\n",
              "      <td>0</td>\n",
              "    </tr>\n",
              "    <tr>\n",
              "      <th>summary</th>\n",
              "      <td>76</td>\n",
              "    </tr>\n",
              "    <tr>\n",
              "      <th>unixReviewTime</th>\n",
              "      <td>0</td>\n",
              "    </tr>\n",
              "  </tbody>\n",
              "</table>\n",
              "</div><br><label><b>dtype:</b> int64</label>"
            ]
          },
          "metadata": {},
          "execution_count": 29
        }
      ]
    },
    {
      "cell_type": "code",
      "source": [
        "print(train_df.shape)"
      ],
      "metadata": {
        "id": "W98rIg7fs6Tx",
        "outputId": "b28508b4-3c50-4047-f173-78e8aa0ec303",
        "colab": {
          "base_uri": "https://localhost:8080/"
        }
      },
      "execution_count": 30,
      "outputs": [
        {
          "output_type": "stream",
          "name": "stdout",
          "text": [
            "(838944, 11)\n"
          ]
        }
      ]
    },
    {
      "cell_type": "markdown",
      "source": [
        " Finding the non-numeric culprits in the 'vote' column"
      ],
      "metadata": {
        "id": "uzUax3A1_me_"
      }
    },
    {
      "cell_type": "code",
      "source": [
        "# Get all unique values from the column.\n",
        "all_unique_votes = train_df['vote'].unique()\n",
        "\n",
        "non_numeric_votes = []\n",
        "\n",
        "# Loop through each unique value to check its type.\n",
        "for vote in all_unique_votes:\n",
        "    if isinstance(vote, str):\n",
        "        non_numeric_votes.append(vote)\n",
        "\n",
        "# Now, print the results of our investigation.\n",
        "if non_numeric_votes:\n",
        "    print(\"Found the following non-numeric (string) values in the 'vote' column:\")\n",
        "    print(non_numeric_votes)\n",
        "else:\n",
        "    print(\"No non-numeric string values were found. The issue might be related to another data type.\")\n"
      ],
      "metadata": {
        "colab": {
          "base_uri": "https://localhost:8080/"
        },
        "id": "2HOxcnJI_ncE",
        "outputId": "c5c78f2c-8a92-400a-ef50-c45fca815a98"
      },
      "execution_count": 31,
      "outputs": [
        {
          "output_type": "stream",
          "name": "stdout",
          "text": [
            "Found the following non-numeric (string) values in the 'vote' column:\n",
            "['3.0', '2.0', '4.0', '17.0', '340.0', '8.0', '5.0', '14.0', '11.0', '29.0', '19.0', '7.0', '6.0', '28.0', '301.0', '18.0', '10.0', '9.0', '37.0', '20.0', '12.0', '331.0', '41.0', '33.0', '38.0', '13.0', '24.0', '16.0', '21.0', '35.0', '60.0', '48.0', '106.0', '25.0', '32.0', '47.0', '114.0', '69.0', '23.0', '58.0', '15.0', '157.0', '44.0', '61.0', '81.0', '34.0', '27.0', '50.0', '26.0', '22.0', '30.0', '51.0', '67.0', '93.0', '101.0', '84.0', '154.0', '31.0', '36.0', '171.0', '40.0', '57.0', '56.0', '43.0', '68.0', '66.0', '327.0', '91.0', '104.0', '39.0', '53.0', '92.0', '125.0', '64.0', '158.0', '94.0', '119.0', '72.0', '128.0', '103.0', '45.0', '110.0', '529.0', '78.0', '444.0', '62.0', '85.0', '76.0', '74.0', '80.0', '100.0', '42.0', '96.0', '65.0', '107.0', '148.0', '73.0', '49.0', '142.0', '263.0', '54.0', '86.0', '161.0', '46.0', '116.0', '133.0', '105.0', '83.0', '281.0', '201.0', '130.0', '63.0', '137.0', '70.0', '98.0', '184.0', '202.0', '372.0', '187.0', '155.0', '97.0', '75.0', '109.0', '135.0', '146.0', '153.0', '82.0', '177.0', '87.0', '112.0', '226.0', '52.0', '59.0', '408.0', '79.0', '121.0', '198.0', '434.0', '299.0', '120.0', '145.0', '399.0', '113.0', '102.0', '55.0', '528.0', '6', '50', '4', '3', '2', '28', '5', '11', '13', '7', '9', '15', '55', '10', '23', '65', '16', '52', '8', '18', '53', '17', '36', '42', '20', '1,489', '19', '14', '162', '12', '22', '76', '21', '104', '48', '153', '89', '61', '29', '38', '33', '77', '59', '60', '35', '121', '25', '44', '31', '34', '26', '78', '32', '47', '62', '110', '24', '27', '43', '92', '281', '64', '188', '123', '290', '166', '40', '142', '184', '73', '415', '109', '37', '258', '106', '79', '286', '137', '75', '95', '30', '203', '204', '822', '131', '41', '45', '127', '46', '118', '98', '69', '176', '251', '164', '39', '170', '58', '56', '598', '66', '83', '74', '72', '183', '124', '87', '169', '54', '130', '152', '68', '51', '172', '93', '90', '86', '282', '70', '392', '63', '288', '132', '187', '367', '449', '84', '238', '129', '287', '67', '107', '97', '49', '82', '171', '57', '147', '141', '317', '345', '1,197', '145', '200', '100', '461', '440', '382', '96', '359', '136', '122', '502', '120', '1,020', '236', '135', '191', '80', '138', '360', '435', '116', '112', '217', '344', '134', '231', '99', '348.0', '89.0', '303.0', '284.0', '193.0', '170.0', '99.0', '173.0', '206.0', '812.0', '179.0', '108.0', '141.0', '90.0', '95.0', '134.0', '587.0', '354.0', '111.0', '151.0', '117.0', '499.0', '196.0', '166.0', '244.0', '149.0', '152.0', '480.0', '150.0', '389.0', '328.0', '189.0', '218.0', '163.0', '225.0', '159.0', '269.0', '151', '971', '355', '115', '94', '262', '163', '159', '302', '149', '160', '139', '102', '218', '117', '319', '91', '208', '126', '215', '198', '88', '970', '158', '339', '105', '434', '156', '201', '457', '101', '583', '323', '213', '223', '181', '210', '303', '150', '241', '148', '185', '437', '1,193', '333', '357', '264', '658', '569', '276', '294', '193', '280', '108', '207', '431', '114', '538', '982', '1,116', '289', '154', '174', '71', '254', '730', '194', '295', '237', '663', '460', '478', '265', '143', '140', '219', '103', '758', '278', '81', '111', '371', '165', '299', '211', '144', '235', '326', '128', '403', '133', '260', '196', '155', '190', '161', '195', '521', '85', '794', '157', '269', '325', '230', '599', '450', '557', '351', '240', '1,820', '556', '311', '533', '222', '224', '587', '125', '272', '167', '420', '340', '146', '332', '831', '545', '209', '233', '364', '396', '769', '606', '228', '305', '631', '432', '177', '296', '227', '214', '889', '416', '242', '306', '239', '1,044', '263', '363', '178', '206', '779', '801', '531', '328', '113', '509', '501', '173', '234', '202', '277', '500', '699', '513', '706', '192', '612', '226', '833', '182', '667', '216', '315', '337', '1,289', '712', '334', '221', '279', '588', '1,875', '220', '490', '463', '492', '250', '785', '592', '313', '349', '814', '2,846', '469', '266', '285', '232', '516', '119', '2,433', '1,372', '365', '372', '585', '316', '247', '383', '406', '370', '199', '324', '293', '1,560', '819', '418', '488', '430', '777', '1,149', '377', '205', '817', '462', '453', '409', '186', '338', '342', '675', '197', '388', '368', '919', '1,524', '168', '336', '912', '356', '297', '373', '1,542', '515', '558', '705']\n"
          ]
        }
      ]
    },
    {
      "cell_type": "markdown",
      "source": [
        "The Ultimate Cleaning Code for the 'vote' column"
      ],
      "metadata": {
        "id": "9EOmWwSgBFGl"
      }
    },
    {
      "cell_type": "code",
      "source": [
        "# Step 1: Replace commas.\n",
        "train_df['vote'] = train_df['vote'].str.replace(',', '', regex=False)\n",
        "\n",
        "# Step 2: Convert to numeric.\n",
        "train_df['vote'] = pd.to_numeric(train_df['vote'], errors='coerce')\n",
        "\n",
        "# Step 3: Fill NaN values.\n",
        "# fill them with 0 because a missing vote means 0 helpfulness votes.\n",
        "train_df['vote'] = train_df['vote'].fillna(0)\n",
        "\n",
        "# Step 4: Convert to integer.\n",
        "train_df['vote'] = train_df['vote'].astype(int)\n",
        "\n",
        "# Verification Step\n",
        "print(\"--- After Cleaning ---\")\n",
        "print(f\"New data type of 'vote' column: {train_df['vote'].dtype}\")\n",
        "print(f\"Number of null values in 'vote' column: {train_df['vote'].isnull().sum()}\")\n"
      ],
      "metadata": {
        "colab": {
          "base_uri": "https://localhost:8080/"
        },
        "id": "cH7DldNGBGC8",
        "outputId": "8fe30cca-c941-4b8f-a3c4-1e32a507303f"
      },
      "execution_count": 32,
      "outputs": [
        {
          "output_type": "stream",
          "name": "stdout",
          "text": [
            "--- After Cleaning ---\n",
            "New data type of 'vote' column: int64\n",
            "Number of null values in 'vote' column: 0\n"
          ]
        }
      ]
    },
    {
      "cell_type": "markdown",
      "source": [
        "Analysis (Group, Aggregate, and Sort)"
      ],
      "metadata": {
        "id": "f8jU5Fgf80Gv"
      }
    },
    {
      "cell_type": "code",
      "source": [
        "# Find the top 10 reviewers based on the total sum of their 'vote' counts.\n",
        "top_10_reviewers = (\n",
        "    train_df.groupby(['reviewerID', 'reviewerName'])['vote']\n",
        "    .sum()\n",
        "    .sort_values(ascending=False)\n",
        "    .head(10)\n",
        "    .reset_index(name='total_votes')\n",
        ")\n",
        "\n",
        "print(\"Top 10 Reviewers by Total Helpfulness Votes:\")\n",
        "print(top_10_reviewers)"
      ],
      "metadata": {
        "colab": {
          "base_uri": "https://localhost:8080/"
        },
        "id": "KvSbNPtN81Qq",
        "outputId": "e15c3878-14fd-47c8-a5de-9d778bfb38dc"
      },
      "execution_count": 33,
      "outputs": [
        {
          "output_type": "stream",
          "name": "stdout",
          "text": [
            "Top 10 Reviewers by Total Helpfulness Votes:\n",
            "       reviewerID   reviewerName  total_votes\n",
            "0  A25GROL6KJV3QG   Benson Leung         4345\n",
            "1  A3KJ0DF3LTNJ6X     Voltron00x         3096\n",
            "2  A1KPFZCS71QKW5         nycebo         2978\n",
            "3    ADLVFFE4VBT8        Cthulhu         2605\n",
            "4   AMYCUX8EWEUVV       Mayra S.         2605\n",
            "5  A2IK776FY6MEMG        Obi Wan         2177\n",
            "6  A1GHPJB2N0D0RL    Chris Upton         2167\n",
            "7   AW7UMXXJKFSNS       Sally B.         1912\n",
            "8  A2VQ0V1TWXF3U7  Mark A. Baker         1820\n",
            "9   A7HWU6R6UQIX6    avirtualcfo         1560\n"
          ]
        }
      ]
    },
    {
      "cell_type": "markdown",
      "source": [
        "Plot the result\n",
        "\n"
      ],
      "metadata": {
        "id": "w6yAu_dIBmcc"
      }
    },
    {
      "cell_type": "code",
      "source": [
        "sns.set_style(\"whitegrid\")\n",
        "\n",
        "# Create a figure and axes for the plot.\n",
        "plt.figure(figsize=(12, 8))\n",
        "\n",
        "barplot = sns.barplot(x='total_votes', y='reviewerName', data=top_10_reviewers, palette='viridis')\n",
        "\n",
        "plt.title('Top 10 Most Helpful Reviewers', fontsize=16, fontweight='bold')\n",
        "plt.xlabel('Total Helpfulness Votes (sum of \"vote\")', fontsize=12)\n",
        "plt.ylabel('Reviewer Name', fontsize=12)\n",
        "\n",
        "for container in barplot.containers:\n",
        "    barplot.bar_label(container, fmt='%d', padding=5)\n",
        "\n",
        "plt.tight_layout()\n",
        "\n",
        "# Display the plot\n",
        "plt.show()\n"
      ],
      "metadata": {
        "colab": {
          "base_uri": "https://localhost:8080/",
          "height": 894
        },
        "id": "I89SRGLuBlHM",
        "outputId": "cc2b4b62-b860-4d13-f6ca-a7be3aa6b7dd"
      },
      "execution_count": 34,
      "outputs": [
        {
          "output_type": "stream",
          "name": "stderr",
          "text": [
            "/tmp/ipython-input-675223874.py:6: FutureWarning: \n",
            "\n",
            "Passing `palette` without assigning `hue` is deprecated and will be removed in v0.14.0. Assign the `y` variable to `hue` and set `legend=False` for the same effect.\n",
            "\n",
            "  barplot = sns.barplot(x='total_votes', y='reviewerName', data=top_10_reviewers, palette='viridis')\n"
          ]
        },
        {
          "output_type": "display_data",
          "data": {
            "text/plain": [
              "<Figure size 1200x800 with 1 Axes>"
            ],
            "image/png": "[encoded data removed]"
          },
          "metadata": {}
        }
      ]
    }
  ]
}